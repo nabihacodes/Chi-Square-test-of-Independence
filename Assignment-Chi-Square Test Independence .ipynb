{
 "cells": [
  {
   "cell_type": "markdown",
   "id": "9e70f055",
   "metadata": {},
   "source": [
    "## chi square test \n",
    " if the variables are dependent upon each other or not it checks the relationship between 2 discrete variables\n",
    "\n",
    "## ho=they are independent-->no relationship, h1=they are dependent -->relationship"
   ]
  },
  {
   "cell_type": "code",
   "execution_count": 1,
   "id": "9fd78616",
   "metadata": {},
   "outputs": [],
   "source": [
    "import pandas as pd"
   ]
  },
  {
   "cell_type": "code",
   "execution_count": 2,
   "id": "956d2ef4",
   "metadata": {},
   "outputs": [],
   "source": [
    "d1={'Satisfaction':['Very Satisfied','Satisfied','Neutral','Unsatisfied','Very Unsatisfied'],\n",
    "    'Smart Thermostat':[50,80,60,30,20],\n",
    "    'Smart Light':[70,100,90,50,50,]\n",
    "    }"
   ]
  },
  {
   "cell_type": "code",
   "execution_count": 3,
   "id": "2843f0f1",
   "metadata": {},
   "outputs": [],
   "source": [
    "df=pd.DataFrame(d1)"
   ]
  },
  {
   "cell_type": "code",
   "execution_count": 4,
   "id": "22c7d54c",
   "metadata": {},
   "outputs": [
    {
     "data": {
      "text/html": [
       "<div>\n",
       "<style scoped>\n",
       "    .dataframe tbody tr th:only-of-type {\n",
       "        vertical-align: middle;\n",
       "    }\n",
       "\n",
       "    .dataframe tbody tr th {\n",
       "        vertical-align: top;\n",
       "    }\n",
       "\n",
       "    .dataframe thead th {\n",
       "        text-align: right;\n",
       "    }\n",
       "</style>\n",
       "<table border=\"1\" class=\"dataframe\">\n",
       "  <thead>\n",
       "    <tr style=\"text-align: right;\">\n",
       "      <th></th>\n",
       "      <th>Satisfaction</th>\n",
       "      <th>Smart Thermostat</th>\n",
       "      <th>Smart Light</th>\n",
       "    </tr>\n",
       "  </thead>\n",
       "  <tbody>\n",
       "    <tr>\n",
       "      <th>0</th>\n",
       "      <td>Very Satisfied</td>\n",
       "      <td>50</td>\n",
       "      <td>70</td>\n",
       "    </tr>\n",
       "    <tr>\n",
       "      <th>1</th>\n",
       "      <td>Satisfied</td>\n",
       "      <td>80</td>\n",
       "      <td>100</td>\n",
       "    </tr>\n",
       "    <tr>\n",
       "      <th>2</th>\n",
       "      <td>Neutral</td>\n",
       "      <td>60</td>\n",
       "      <td>90</td>\n",
       "    </tr>\n",
       "    <tr>\n",
       "      <th>3</th>\n",
       "      <td>Unsatisfied</td>\n",
       "      <td>30</td>\n",
       "      <td>50</td>\n",
       "    </tr>\n",
       "    <tr>\n",
       "      <th>4</th>\n",
       "      <td>Very Unsatisfied</td>\n",
       "      <td>20</td>\n",
       "      <td>50</td>\n",
       "    </tr>\n",
       "  </tbody>\n",
       "</table>\n",
       "</div>"
      ],
      "text/plain": [
       "       Satisfaction  Smart Thermostat  Smart Light\n",
       "0    Very Satisfied                50           70\n",
       "1         Satisfied                80          100\n",
       "2           Neutral                60           90\n",
       "3       Unsatisfied                30           50\n",
       "4  Very Unsatisfied                20           50"
      ]
     },
     "execution_count": 4,
     "metadata": {},
     "output_type": "execute_result"
    }
   ],
   "source": [
    "df"
   ]
  },
  {
   "cell_type": "code",
   "execution_count": 15,
   "id": "f4fdbe8e",
   "metadata": {},
   "outputs": [],
   "source": [
    "import scipy.stats as stats"
   ]
  },
  {
   "cell_type": "markdown",
   "id": "878d8097",
   "metadata": {},
   "source": [
    "# first we determine the chi table value then we compare the chitable critical value with the chi test statistic value and based on that we reject the null hypothesis or alternate hypothesis."
   ]
  },
  {
   "cell_type": "code",
   "execution_count": 16,
   "id": "22b26734",
   "metadata": {},
   "outputs": [
    {
     "data": {
      "text/plain": [
       "9.487729036781154"
      ]
     },
     "execution_count": 16,
     "metadata": {},
     "output_type": "execute_result"
    }
   ],
   "source": [
    "critical_chi_table_val=stats.chi2.ppf(q=0.95,df=4)\n",
    "critical_chi_table_val"
   ]
  },
  {
   "cell_type": "markdown",
   "id": "edd1ade7",
   "metadata": {},
   "source": [
    "we got the critical value as 9.48\n",
    "If our calculated chi-square statistic > 9.488, we reject the null hypothesis,i.e we accept alternate hypothesis .\n",
    "If our calculated chi-square statistic ≤ 9.488, we fail to reject the null hypothesis, i,e we accept null hypothesis ."
   ]
  },
  {
   "cell_type": "code",
   "execution_count": 17,
   "id": "8b97a666",
   "metadata": {},
   "outputs": [],
   "source": [
    "df1=df[[\"Smart Thermostat\",\"Smart Light\"]]"
   ]
  },
  {
   "cell_type": "code",
   "execution_count": 18,
   "id": "c2f28a93",
   "metadata": {},
   "outputs": [],
   "source": [
    "chi2, p, dof, expected = stats.chi2_contingency(df1)\n"
   ]
  },
  {
   "cell_type": "code",
   "execution_count": 31,
   "id": "6e2bf40d",
   "metadata": {},
   "outputs": [
    {
     "name": "stdout",
     "output_type": "stream",
     "text": [
      "\u001b[1mThe Chi-Square Value with degrees of freedom\u001b[0m 4 \u001b[1mis\u001b[0m 5.64\n",
      "\u001b[1mThe Pvalue is\u001b[0m 0.23\n"
     ]
    }
   ],
   "source": [
    "print(\"\\033[1mThe Chi-Square Value with degrees of freedom\\033[0m\",dof,\"\\033[1mis\\033[0m\",chi2.round(2))\n",
    "print(\"\\033[1mThe Pvalue is\\033[0m\",p.round(2))"
   ]
  },
  {
   "cell_type": "code",
   "execution_count": 21,
   "id": "3bcd14c4",
   "metadata": {},
   "outputs": [],
   "source": [
    "alpha=0.05\n",
    "pvalue=0.23"
   ]
  },
  {
   "cell_type": "code",
   "execution_count": 33,
   "id": "ab69b36a",
   "metadata": {},
   "outputs": [
    {
     "name": "stdout",
     "output_type": "stream",
     "text": [
      "\u001b[1mh1 rejected ho accepted\u001b[0m\n"
     ]
    }
   ],
   "source": [
    "if pvalue<alpha:\n",
    "    print(\"\\033[1mho is rejected and h1 accepted\\033[0m\")\n",
    "else:\n",
    "    print(\"\\033[1mh1 rejected ho accepted\\033[0m\")"
   ]
  },
  {
   "cell_type": "markdown",
   "id": "8b0a16fe",
   "metadata": {},
   "source": [
    "## similarly"
   ]
  },
  {
   "cell_type": "code",
   "execution_count": 25,
   "id": "38a2e8d3",
   "metadata": {},
   "outputs": [],
   "source": [
    "chivalue=5.64\n",
    "critical_value=9.84"
   ]
  },
  {
   "cell_type": "code",
   "execution_count": 34,
   "id": "8386afd6",
   "metadata": {},
   "outputs": [
    {
     "name": "stdout",
     "output_type": "stream",
     "text": [
      "\u001b[1mh1 rejected ho accepted\u001b[0m\n"
     ]
    }
   ],
   "source": [
    "if chivalue>critical_value:\n",
    "    print(\"\\033[1mho is rejected and h1 accepted\\033[0m\")\n",
    "else:\n",
    "    print(\"\\033[1mh1 rejected ho accepted\\033[0m\")"
   ]
  },
  {
   "cell_type": "markdown",
   "id": "18baefa2",
   "metadata": {},
   "source": [
    "# CONCLUSION\n",
    "## Hence we prove that there is no significant relationship between the Smart Light vs Smart Thermostat ,which also means that there is no relationship between the customer satisfaction level based on it."
   ]
  },
  {
   "cell_type": "code",
   "execution_count": null,
   "id": "30443b4d",
   "metadata": {},
   "outputs": [],
   "source": []
  },
  {
   "cell_type": "code",
   "execution_count": null,
   "id": "381e204c",
   "metadata": {},
   "outputs": [],
   "source": []
  },
  {
   "cell_type": "code",
   "execution_count": null,
   "id": "bfd0767e",
   "metadata": {},
   "outputs": [],
   "source": []
  },
  {
   "cell_type": "code",
   "execution_count": null,
   "id": "92aeed4f",
   "metadata": {},
   "outputs": [],
   "source": []
  },
  {
   "cell_type": "code",
   "execution_count": null,
   "id": "6d7b8213",
   "metadata": {},
   "outputs": [],
   "source": []
  }
 ],
 "metadata": {
  "kernelspec": {
   "display_name": "Python 3 (ipykernel)",
   "language": "python",
   "name": "python3"
  },
  "language_info": {
   "codemirror_mode": {
    "name": "ipython",
    "version": 3
   },
   "file_extension": ".py",
   "mimetype": "text/x-python",
   "name": "python",
   "nbconvert_exporter": "python",
   "pygments_lexer": "ipython3",
   "version": "3.11.5"
  }
 },
 "nbformat": 4,
 "nbformat_minor": 5
}
